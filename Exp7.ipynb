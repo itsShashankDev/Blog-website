{
  "nbformat": 4,
  "nbformat_minor": 0,
  "metadata": {
    "colab": {
      "provenance": [],
      "authorship_tag": "ABX9TyNosTn+h/A0ddfo2sXyFtiy",
      "include_colab_link": true
    },
    "kernelspec": {
      "name": "python3",
      "display_name": "Python 3"
    },
    "language_info": {
      "name": "python"
    }
  },
  "cells": [
    {
      "cell_type": "markdown",
      "metadata": {
        "id": "view-in-github",
        "colab_type": "text"
      },
      "source": [
        "<a href=\"https://colab.research.google.com/github/itsShashankDev/Blog-website/blob/master/Exp7.ipynb\" target=\"_parent\"><img src=\"https://colab.research.google.com/assets/colab-badge.svg\" alt=\"Open In Colab\"/></a>"
      ]
    },
    {
      "cell_type": "code",
      "execution_count": 4,
      "metadata": {
        "colab": {
          "base_uri": "https://localhost:8080/"
        },
        "id": "86_RNgjncu9w",
        "outputId": "393b8b22-b459-4f8e-fe2b-a38d6cb2ac01"
      },
      "outputs": [
        {
          "output_type": "stream",
          "name": "stdout",
          "text": [
            "[[  12    4    4    4    4    4    4  -22]\n",
            " [  30    6    6    6    6    6    6  -45]\n",
            " [  54    6    6    6    6    6    6  -69]\n",
            " [  78    6    6    6    6    6    6  -93]\n",
            " [ 102    6    6    6    6    6    6 -117]\n",
            " [ 126    6    6    6    6    6    6 -141]\n",
            " [ 150    6    6    6    6    6    6 -165]\n",
            " [ 108    4    4    4    4    4    4 -118]]\n"
          ]
        }
      ],
      "source": [
        "import numpy as np\n",
        "from scipy.signal import convolve2d\n",
        "\n",
        "# Define the 8x8 image matrix\n",
        "image_matrix = np.array([[1, 2, 3, 4, 5, 6, 7, 8],\n",
        "                        [9, 10, 11, 12, 13, 14, 15, 16],\n",
        "                        [17, 18, 19, 20, 21, 22, 23, 24],\n",
        "                        [25, 26, 27, 28, 29, 30, 31, 32],\n",
        "                        [33, 34, 35, 36, 37, 38, 39, 40],\n",
        "                        [41, 42, 43, 44, 45, 46, 47, 48],\n",
        "                        [49, 50, 51, 52, 53, 54, 55, 56],\n",
        "                        [57, 58, 59, 60, 61, 62, 63, 64]])\n",
        "\n",
        "# Define the 3x3 filter\n",
        "filter_matrix = np.array([[1, 0, -1],\n",
        "                          [1, 0, -1],\n",
        "                          [1, 0, -1]])\n",
        "\n",
        "# Compute the required padding size for \"same\" convolution\n",
        "padding = filter_matrix.shape[0] // 2\n",
        "\n",
        "# Apply zero padding to the image\n",
        "padded_image = np.pad(image_matrix, padding, mode='constant', constant_values=0)\n",
        "\n",
        "# Perform convolution\n",
        "feature_map = convolve2d(padded_image, filter_matrix, mode='valid')\n",
        "\n",
        "# Display the resulting feature map\n",
        "print(feature_map)\n",
        "\n"
      ]
    },
    {
      "cell_type": "code",
      "source": [
        "import numpy as np\n",
        "from scipy.signal import convolve2d\n",
        "\n",
        "# Define the 8x8 image matrix\n",
        "image_matrix = np.array([[1, 2, 3, 4, 5, 6, 7, 8],\n",
        "                        [9, 10, 11, 12, 13, 14, 15, 16],\n",
        "                        [17, 18, 19, 20, 21, 22, 23, 24],\n",
        "                        [25, 26, 27, 28, 29, 30, 31, 32],\n",
        "                        [33, 34, 35, 36, 37, 38, 39, 40],\n",
        "                        [41, 42, 43, 44, 45, 46, 47, 48],\n",
        "                        [49, 50, 51, 52, 53, 54, 55, 56],\n",
        "                        [57, 58, 59, 60, 61, 62, 63, 64]])\n",
        "\n",
        "# Define the 3x3 filter\n",
        "filter_matrix = np.array([[1, 0, -1],\n",
        "                          [1, 0, -1],\n",
        "                          [1, 0, -1]])\n",
        "\n",
        "# Compute the required padding size for \"same\" convolution\n",
        "padding = filter_matrix.shape[0] // 2\n",
        "\n",
        "# Apply zero padding to the image\n",
        "padded_image = np.pad(image_matrix, padding, mode='constant', constant_values=0)\n",
        "\n",
        "# Perform convolution\n",
        "feature_map = convolve2d(padded_image, filter_matrix, mode='valid')\n",
        "\n",
        "# Display the resulting feature map\n",
        "print(feature_map)\n"
      ],
      "metadata": {
        "colab": {
          "base_uri": "https://localhost:8080/"
        },
        "id": "7f1qQBn5dV6C",
        "outputId": "d2341f28-f6a5-49ff-99ac-92638330aa7d"
      },
      "execution_count": 5,
      "outputs": [
        {
          "output_type": "stream",
          "name": "stdout",
          "text": [
            "[[  12    4    4    4    4    4    4  -22]\n",
            " [  30    6    6    6    6    6    6  -45]\n",
            " [  54    6    6    6    6    6    6  -69]\n",
            " [  78    6    6    6    6    6    6  -93]\n",
            " [ 102    6    6    6    6    6    6 -117]\n",
            " [ 126    6    6    6    6    6    6 -141]\n",
            " [ 150    6    6    6    6    6    6 -165]\n",
            " [ 108    4    4    4    4    4    4 -118]]\n"
          ]
        }
      ]
    }
  ]
}