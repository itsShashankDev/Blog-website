{
  "nbformat": 4,
  "nbformat_minor": 0,
  "metadata": {
    "colab": {
      "provenance": [],
      "authorship_tag": "ABX9TyND1i6uxFSUiwEFzS2MK8rh",
      "include_colab_link": true
    },
    "kernelspec": {
      "name": "python3",
      "display_name": "Python 3"
    },
    "language_info": {
      "name": "python"
    }
  },
  "cells": [
    {
      "cell_type": "markdown",
      "metadata": {
        "id": "view-in-github",
        "colab_type": "text"
      },
      "source": [
        "<a href=\"https://colab.research.google.com/github/itsShashankDev/Blog-website/blob/master/Exp3.ipynb\" target=\"_parent\"><img src=\"https://colab.research.google.com/assets/colab-badge.svg\" alt=\"Open In Colab\"/></a>"
      ]
    },
    {
      "cell_type": "code",
      "execution_count": 7,
      "metadata": {
        "colab": {
          "base_uri": "https://localhost:8080/"
        },
        "id": "q_B1NzgA6qqS",
        "outputId": "d2fa9106-1683-4eb7-b902-1d3a6668d848"
      },
      "outputs": [
        {
          "output_type": "stream",
          "name": "stdout",
          "text": [
            "Iteration 1000, Total Error: 0.0000\n",
            "\n",
            "Learned Weights: [0.59615269 1.19230537]\n",
            "Learned Bias: 0.005046667169600487\n"
          ]
        }
      ],
      "source": [
        "import numpy as np\n",
        "X = np.array([[0.1, 0.2], [0.2, 0.4], [0.3, 0.6], [0.4, 0.8]])\n",
        "y = np.array([0.3, 0.6, 0.9, 1.2])\n",
        "weights = np.array([0.1, 0.2])\n",
        "bias = 0.3\n",
        "\n",
        "alpha = 0.05\n",
        "iterations = 1000\n",
        "display_interval = 100\n",
        "\n",
        "for i in range(iterations):\n",
        "  predictions = np.dot(X, weights) + bias\n",
        "  error = np.mean((predictions - y) ** 2)\n",
        "  delta_weights = 2 * np.dot(X.T, predictions - y) / len(y)\n",
        "  delta_bias = 2 * np.sum(predictions - y) / len(y)\n",
        "  weights -= alpha * delta_weights\n",
        "  bias -= alpha * delta_bias\n",
        "if (i + 1) % display_interval == 0:\n",
        "  print(f\"Iteration {i + 1}, Total Error: {error:.4f}\")\n",
        "  print(\"\\nLearned Weights:\", weights)\n",
        "  print(\"Learned Bias:\", bias)"
      ]
    }
  ]
}