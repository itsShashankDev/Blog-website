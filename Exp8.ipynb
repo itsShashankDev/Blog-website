{
  "nbformat": 4,
  "nbformat_minor": 0,
  "metadata": {
    "colab": {
      "provenance": [],
      "authorship_tag": "ABX9TyOfGCkneJ570QJ9qEws/NKW",
      "include_colab_link": true
    },
    "kernelspec": {
      "name": "python3",
      "display_name": "Python 3"
    },
    "language_info": {
      "name": "python"
    }
  },
  "cells": [
    {
      "cell_type": "markdown",
      "metadata": {
        "id": "view-in-github",
        "colab_type": "text"
      },
      "source": [
        "<a href=\"https://colab.research.google.com/github/itsShashankDev/Blog-website/blob/master/Exp8.ipynb\" target=\"_parent\"><img src=\"https://colab.research.google.com/assets/colab-badge.svg\" alt=\"Open In Colab\"/></a>"
      ]
    },
    {
      "cell_type": "code",
      "execution_count": 5,
      "metadata": {
        "colab": {
          "base_uri": "https://localhost:8080/"
        },
        "id": "M2vRmjwADogh",
        "outputId": "b2fe7d9b-e4c2-483f-d336-0f4872dd1bcb"
      },
      "outputs": [
        {
          "output_type": "stream",
          "name": "stdout",
          "text": [
            "\n",
            "Post-ReLU Feature Map:\n",
            "[[ 12   4   4   4   4   4   4   0]\n",
            " [ 30   6   6   6   6   6   6   0]\n",
            " [ 54   6   6   6   6   6   6   0]\n",
            " [ 78   6   6   6   6   6   6   0]\n",
            " [102   6   6   6   6   6   6   0]\n",
            " [126   6   6   6   6   6   6   0]\n",
            " [150   6   6   6   6   6   6   0]\n",
            " [108   4   4   4   4   4   4   0]]\n",
            "\n",
            "4x4 Filter Matrix:\n",
            "[[ 1  2  3  4]\n",
            " [ 5  6  7  8]\n",
            " [ 9 10 11 12]\n",
            " [13 14 15 16]]\n",
            "\n",
            "Output Matrix (2x2) after Convolution:\n",
            "[[1788  700  700  700  558]\n",
            " [2736  816  816  816  648]\n",
            " [3696  816  816  816  648]\n",
            " [4656  816  816  816  648]\n",
            " [5340  796  796  796  630]]\n"
          ]
        }
      ],
      "source": [
        "import numpy as np\n",
        "from scipy.signal import convolve2d\n",
        "image_matrix = np.array([\n",
        "[1, 2, 3, 4, 5, 6, 7, 8],\n",
        "[9, 10, 11, 12, 13, 14, 15, 16],\n",
        "[17, 18, 19, 20, 21, 22, 23, 24],\n",
        "[25, 26, 27, 28, 29, 30, 31, 32],\n",
        "[33, 34, 35, 36, 37, 38, 39, 40],\n",
        "[41, 42, 43, 44, 45, 46, 47, 48],\n",
        "[49, 50, 51, 52, 53, 54, 55, 56],\n",
        "[57, 58, 59, 60, 61, 62, 63, 64]\n",
        "])\n",
        "\n",
        "\n",
        "filter_matrix = np.array([ [1, 0, -1],\n",
        "[1, 0, -1],\n",
        "[1, 0, -1]\n",
        "])\n",
        "padded_image = np.pad(image_matrix, ((1, 1), (1, 1)), mode='constant', constant_values=0)\n",
        "feature_map = convolve2d(padded_image, filter_matrix, mode='valid')\n",
        "relu_feature_map = np.maximum(0, feature_map)\n",
        "\n",
        "\n",
        "print(\"\\nPost-ReLU Feature Map:\")\n",
        "\n",
        "print(relu_feature_map)\n",
        "\n",
        "\n",
        "filter_4x4 = np.array([ [1, 2, 3, 4],\n",
        "[5, 6, 7, 8],\n",
        "[9, 10, 11, 12],\n",
        "[13, 14, 15, 16]\n",
        "])\n",
        "output_matrix_2x2 = convolve2d(relu_feature_map, filter_4x4, mode='valid')\n",
        "\n",
        "\n",
        "print(\"\\n4x4 Filter Matrix:\")\n",
        "print(filter_4x4)\n",
        "\n",
        "print(\"\\nOutput Matrix (2x2) after Convolution:\")\n",
        "print(output_matrix_2x2)"
      ]
    }
  ]
}