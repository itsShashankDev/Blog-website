{
  "nbformat": 4,
  "nbformat_minor": 0,
  "metadata": {
    "colab": {
      "provenance": [],
      "authorship_tag": "ABX9TyNxJVx8GOasp88XrFx08SbW",
      "include_colab_link": true
    },
    "kernelspec": {
      "name": "python3",
      "display_name": "Python 3"
    },
    "language_info": {
      "name": "python"
    }
  },
  "cells": [
    {
      "cell_type": "markdown",
      "metadata": {
        "id": "view-in-github",
        "colab_type": "text"
      },
      "source": [
        "<a href=\"https://colab.research.google.com/github/itsShashankDev/Blog-website/blob/master/Exp1.ipynb\" target=\"_parent\"><img src=\"https://colab.research.google.com/assets/colab-badge.svg\" alt=\"Open In Colab\"/></a>"
      ]
    },
    {
      "cell_type": "code",
      "execution_count": null,
      "metadata": {
        "colab": {
          "base_uri": "https://localhost:8080/"
        },
        "id": "NX_F0HnZ8P_o",
        "outputId": "994e5526-1c72-4af3-fd8e-2487ba1b4752"
      },
      "outputs": [
        {
          "output_type": "stream",
          "name": "stdout",
          "text": [
            "enter any value of x1 2\n",
            "enter any value of x2 4\n",
            "enter any value of x3 5\n",
            "enter the value of weight of x1 2\n",
            "enter the value of weight of x2 5\n",
            "enter the value of weight of x3 8\n",
            "enter the bias value6\n",
            "enter the weight to the bias2\n",
            "The Value of U : 72.0\n",
            "The Value of Output Y:  0.8\n"
          ]
        }
      ],
      "source": [
        "import numpy as np\n",
        "import math as m\n",
        "x1=input(\"enter any value of x1 \")\n",
        "x2=input(\"enter any value of x2 \")\n",
        "x3=input(\"enter any value of x3 \")\n",
        "w1=input(\"enter the value of weight of x1 \")\n",
        "w2=input(\"enter the value of weight of x2 \")\n",
        "w3=input(\"enter the value of weight of x3 \")\n",
        "b=input(\"enter the bias value\")\n",
        "w0=input(\"enter the weight to the bias\")\n",
        "u=float(x1)*float(w1)+float(x2)*float(x2)+float(x3)*float(w3)+float(b)*float(w0)\n",
        "print(\"The Value of U :\",u)\n",
        "y=0.8/(1+m.exp(-2*u))\n",
        "print(\"The Value of Output Y: \",y)"
      ]
    }
  ]
}