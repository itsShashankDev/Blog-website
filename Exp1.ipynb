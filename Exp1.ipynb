{
  "nbformat": 4,
  "nbformat_minor": 0,
  "metadata": {
    "colab": {
      "provenance": [],
      "authorship_tag": "ABX9TyO9OeqgXsGlnstFsq5A45uw",
      "include_colab_link": true
    },
    "kernelspec": {
      "name": "python3",
      "display_name": "Python 3"
    },
    "language_info": {
      "name": "python"
    }
  },
  "cells": [
    {
      "cell_type": "markdown",
      "metadata": {
        "id": "view-in-github",
        "colab_type": "text"
      },
      "source": [
        "<a href=\"https://colab.research.google.com/github/itsShashankDev/Blog-website/blob/master/Exp1.ipynb\" target=\"_parent\"><img src=\"https://colab.research.google.com/assets/colab-badge.svg\" alt=\"Open In Colab\"/></a>"
      ]
    },
    {
      "cell_type": "code",
      "execution_count": null,
      "metadata": {
        "colab": {
          "base_uri": "https://localhost:8080/"
        },
        "id": "NX_F0HnZ8P_o",
        "outputId": "994e5526-1c72-4af3-fd8e-2487ba1b4752"
      },
      "outputs": [
        {
          "output_type": "stream",
          "name": "stdout",
          "text": [
            "enter any value of x1 2\n",
            "enter any value of x2 4\n",
            "enter any value of x3 5\n",
            "enter the value of weight of x1 2\n",
            "enter the value of weight of x2 5\n",
            "enter the value of weight of x3 8\n",
            "enter the bias value6\n",
            "enter the weight to the bias2\n",
            "The Value of U : 72.0\n",
            "The Value of Output Y:  0.8\n"
          ]
        }
      ],
      "source": [
        "import numpy as np\n",
        "import math as m\n",
        "x1=input(\"enter any value of x1 \")\n",
        "x2=input(\"enter any value of x2 \")\n",
        "x3=input(\"enter any value of x3 \")\n",
        "w1=input(\"enter the value of weight of x1 \")\n",
        "w2=input(\"enter the value of weight of x2 \")\n",
        "w3=input(\"enter the value of weight of x3 \")\n",
        "b=input(\"enter the bias value\")\n",
        "w0=input(\"enter the weight to the bias\")\n",
        "u=float(x1)*float(w1)+float(x2)*float(x2)+float(x3)*float(w3)+float(b)*float(w0)\n",
        "print(\"The Value of U :\",u)\n",
        "y=0.8/(1+m.exp(-2*u))\n",
        "print(\"The Value of Output Y: \",y)"
      ]
    },
    {
      "cell_type": "code",
      "source": [
        "import numpy as np\n",
        "def sigmoid(x):\n",
        "  return 1 / (1 + np.exp(-x))\n",
        "n_input = int(input(\"enter any number of input : \"))\n",
        "n_hidden = int(input(\"enter any number of hidden layer : \"))\n",
        "n_output = int(input(\"enter any number of output : \"))\n",
        "input_data = np.random.randn(1, n_input)\n",
        "\n",
        "weights_hidden = 0.01 * np.random.randn(n_input, n_hidden)\n",
        "biases_hidden = np.zeros((1, n_hidden))\n",
        "hidden_output = sigmoid(np.dot(input_data, weights_hidden) + biases_hidden)\n",
        "weights_output = 0.01 * np.random.randn(n_hidden, n_output)\n",
        "biases_output = np.zeros((1, n_output))\n",
        "final_output = sigmoid(np.dot(hidden_output, weights_output) + biases_output)\n",
        "print(\"Input Data:\")\n",
        "print(input_data)\n",
        "print(\"\\nHidden Layer Output:\")\n",
        "print(hidden_output)\n",
        "print(\"\\nFinal Output:\")\n",
        "print(final_output)"
      ],
      "metadata": {
        "colab": {
          "base_uri": "https://localhost:8080/"
        },
        "id": "Z_5ScRwQbSM7",
        "outputId": "158ba34b-87e8-4219-f9e1-06eec4c3497d"
      },
      "execution_count": 3,
      "outputs": [
        {
          "output_type": "stream",
          "name": "stdout",
          "text": [
            "enter any number of input : 3\n",
            "enter any number of hidden layer : 4\n",
            "enter any number of output : 2\n",
            "Input Data:\n",
            "[[0.29222726 1.10443788 0.63769089]]\n",
            "\n",
            "Hidden Layer Output:\n",
            "[[0.50465668 0.50474138 0.50001524 0.49995284]]\n",
            "\n",
            "Final Output:\n",
            "[[0.49800811 0.49798676]]\n"
          ]
        }
      ]
    }
  ]
}