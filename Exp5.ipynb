{
  "nbformat": 4,
  "nbformat_minor": 0,
  "metadata": {
    "colab": {
      "provenance": [],
      "authorship_tag": "ABX9TyMY3yVhJZ2NxLxPr1fJqtEf",
      "include_colab_link": true
    },
    "kernelspec": {
      "name": "python3",
      "display_name": "Python 3"
    },
    "language_info": {
      "name": "python"
    }
  },
  "cells": [
    {
      "cell_type": "markdown",
      "metadata": {
        "id": "view-in-github",
        "colab_type": "text"
      },
      "source": [
        "<a href=\"https://colab.research.google.com/github/itsShashankDev/Blog-website/blob/master/Exp5.ipynb\" target=\"_parent\"><img src=\"https://colab.research.google.com/assets/colab-badge.svg\" alt=\"Open In Colab\"/></a>"
      ]
    },
    {
      "cell_type": "code",
      "execution_count": 1,
      "metadata": {
        "colab": {
          "base_uri": "https://localhost:8080/"
        },
        "id": "6dqZM1cU-i9x",
        "outputId": "c969efc6-1f92-4e1c-cdef-75d01bca346f"
      },
      "outputs": [
        {
          "output_type": "stream",
          "name": "stdout",
          "text": [
            "Test Input:\n",
            "[[0.3 0.4]]\n",
            "\n",
            "Hidden Layer Output(RELU):\n",
            "[[0.071 0.94  0.5  ]]\n",
            "\n",
            "Output Result (Softmax):\n",
            "[[0.15245781 0.5849275  0.26261469]]\n"
          ]
        }
      ],
      "source": [
        "import numpy as np\n",
        "def relu(x):\n",
        "  return np.maximum(0, x)\n",
        "def softmax(x):\n",
        "  exp_x = np.exp(x - np.max(x, axis=1, keepdims=True))\n",
        "  return exp_x / np.sum(exp_x, axis=1, keepdims=True)\n",
        "input_size = 2\n",
        "hidden_size = 3\n",
        "output_size = 3\n",
        "hidden_weights = np.array([[2.53, -0.47], [1.2, -0.3], [-0.8, 1.6]])\n",
        "hidden_bias = np.array([-0.5, 0.7, 0.1])\n",
        "output_weights = np.array([[0.5, -1.2, 0.8], [-0.9, 1.4, -0.6], [0.3, -0.5, 0.2]])\n",
        "output_bias = np.array([0.1, -0.2, 0.3])\n",
        "test_data = np.array([[0.3, 0.4]])\n",
        "hidden_layer_input = np.dot(test_data, hidden_weights.T) + hidden_bias\n",
        "hidden_layer_output = relu(hidden_layer_input)\n",
        "output_layer_input = np.dot(hidden_layer_output, output_weights.T) + output_bias\n",
        "output_layer_output = softmax(output_layer_input)\n",
        "print(\"Test Input:\")\n",
        "print(test_data)\n",
        "print(\"\\nHidden Layer Output(RELU):\")\n",
        "print(hidden_layer_output)\n",
        "print(\"\\nOutput Result (Softmax):\")\n",
        "print(output_layer_output)"
      ]
    }
  ]
}