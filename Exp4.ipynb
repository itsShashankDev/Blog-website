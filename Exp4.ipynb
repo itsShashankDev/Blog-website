{
  "nbformat": 4,
  "nbformat_minor": 0,
  "metadata": {
    "colab": {
      "provenance": [],
      "authorship_tag": "ABX9TyO5viLwhg4G75Nf16P3Xrhl",
      "include_colab_link": true
    },
    "kernelspec": {
      "name": "python3",
      "display_name": "Python 3"
    },
    "language_info": {
      "name": "python"
    }
  },
  "cells": [
    {
      "cell_type": "markdown",
      "metadata": {
        "id": "view-in-github",
        "colab_type": "text"
      },
      "source": [
        "<a href=\"https://colab.research.google.com/github/itsShashankDev/Blog-website/blob/master/Exp4.ipynb\" target=\"_parent\"><img src=\"https://colab.research.google.com/assets/colab-badge.svg\" alt=\"Open In Colab\"/></a>"
      ]
    },
    {
      "cell_type": "code",
      "execution_count": 1,
      "metadata": {
        "colab": {
          "base_uri": "https://localhost:8080/"
        },
        "id": "Wd7PEAN69i2V",
        "outputId": "e118513b-25e4-4fff-9422-fae4be916807"
      },
      "outputs": [
        {
          "output_type": "stream",
          "name": "stdout",
          "text": [
            "Epoch 100, Error:0.012312025273889431\n",
            "Stopping early as error is less than 0.05\n"
          ]
        }
      ],
      "source": [
        "import numpy as np\n",
        "def sigmoid(x):\n",
        "  return 1 / (1 + np.exp(-x))\n",
        "def sigmoid_derivative(x):\n",
        "  return x * (1 - x)\n",
        "def mean_square_error(y_true, y_pred):\n",
        "  return np.mean((y_true - y_pred) ** 2)\n",
        "X = np.array([[0.3], [0.5]])\n",
        "y_true = np.array([0.7])\n",
        "weights = np.array([0.2, 0.4])\n",
        "bias = np.array([0.1])\n",
        "alpha = 0.1\n",
        "max_epochs = 100\n",
        "errors = []\n",
        "for epoch in range(max_epochs):\n",
        "  layer_input = np.dot(X.T, weights) + bias\n",
        "layer_output = sigmoid(layer_input)\n",
        "error = mean_square_error(y_true, layer_output)\n",
        "errors.append(error)\n",
        "d_error = 2 * (layer_output - y_true)\n",
        "d_output = sigmoid_derivative(layer_output)\n",
        "d_weights = np.dot(X, d_error * d_output)\n",
        "d_bias = np.sum(d_error * d_output)\n",
        "weights -= alpha * d_weights\n",
        "bias -= alpha * d_bias\n",
        "if (epoch + 1) % 10 == 0:\n",
        "  print(f\"Epoch {epoch + 1}, Error:{error}\")\n",
        "\n",
        "if error < 0.05:\n",
        "  print(\"Stopping early as error is less than 0.05\")"
      ]
    }
  ]
}