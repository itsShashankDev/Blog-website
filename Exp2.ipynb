{
  "nbformat": 4,
  "nbformat_minor": 0,
  "metadata": {
    "colab": {
      "provenance": [],
      "authorship_tag": "ABX9TyMSMKV00fDlInoZHt6jS7JR",
      "include_colab_link": true
    },
    "kernelspec": {
      "name": "python3",
      "display_name": "Python 3"
    },
    "language_info": {
      "name": "python"
    }
  },
  "cells": [
    {
      "cell_type": "markdown",
      "metadata": {
        "id": "view-in-github",
        "colab_type": "text"
      },
      "source": [
        "<a href=\"https://colab.research.google.com/github/itsShashankDev/Blog-website/blob/master/Exp2.ipynb\" target=\"_parent\"><img src=\"https://colab.research.google.com/assets/colab-badge.svg\" alt=\"Open In Colab\"/></a>"
      ]
    },
    {
      "cell_type": "code",
      "execution_count": 1,
      "metadata": {
        "colab": {
          "base_uri": "https://localhost:8080/"
        },
        "id": "8MkQHl2eWonD",
        "outputId": "74a2ac9f-7ebb-44b7-82e9-ae789e575c2e"
      },
      "outputs": [
        {
          "output_type": "stream",
          "name": "stdout",
          "text": [
            "Input:\n",
            "[[-0.5014639  -0.81317011 -1.03046993 -0.32978904]]\n",
            "\n",
            "Weights:\n",
            "[[-0.01121108 -0.00961257  0.0153594 ]\n",
            " [ 0.01479199  0.01316202 -0.00495307]\n",
            " [-0.00397652  0.00141553  0.00531889]\n",
            " [-0.00581754 -0.0088727   0.0003086 ]]\n",
            "\n",
            "Biases:\n",
            "[[0. 0. 0.]]\n",
            "\n",
            "Output:\n",
            "[[-0.0003902  -0.00441514 -0.00925722]]\n"
          ]
        }
      ],
      "source": [
        "import numpy as np\n",
        "class Layer_Dense:\n",
        " def __init__(self, n_inputs, n_neurons):\n",
        "  self.weights = 0.01 * np.random.randn(n_inputs, n_neurons)\n",
        "  self.biases = np.zeros((1, n_neurons))\n",
        "  self.output = None\n",
        "  self.input = None\n",
        " def forward(self, inputs):\n",
        "  self.input = inputs\n",
        "  self.output = np.dot(inputs, self.weights) + self.biases\n",
        "n_inputs = 4\n",
        "n_neurons = 3\n",
        "dense_layer = Layer_Dense(n_inputs, n_neurons)\n",
        "input_data = np.random.randn(1, n_inputs)\n",
        "dense_layer.forward(input_data)\n",
        "\n",
        "print(\"Input:\")\n",
        "print(input_data)\n",
        "print(\"\\nWeights:\")\n",
        "print(dense_layer.weights)\n",
        "print(\"\\nBiases:\")\n",
        "print(dense_layer.biases)\n",
        "print(\"\\nOutput:\")\n",
        "print(dense_layer.output)\n"
      ]
    },
    {
      "cell_type": "code",
      "source": [
        "import numpy as np\n",
        "\n",
        "class Layer_Dense:\n",
        "    def __init__(self, n_inputs, n_neurons):\n",
        "\n",
        "        self.weights = 0.1 * np.random.randn(n_inputs, n_neurons)\n",
        "        self.biases = np.zeros((1, n_neurons))\n",
        "\n",
        "    def forward(self, inputs):\n",
        "\n",
        "        self.inputs = inputs\n",
        "        self.output = np.dot(inputs, self.weights) + self.biases\n",
        "\n",
        "class Activation_ReLU:\n",
        "    def forward(self, inputs):\n",
        "        self.output = np.maximum(0, inputs)\n",
        "\n",
        "\n",
        "n_inputs = int(input(\"enter any number of input : \"))\n",
        "n_neurons = int(input(\"enter any number of neurons : \"))\n",
        "\n",
        "\n",
        "layer = Layer_Dense(n_inputs, n_neurons)\n",
        "activation = Activation_ReLU()\n",
        "\n",
        "\n",
        "inputs = np.random.randn(1, n_inputs)\n",
        "\n",
        "\n",
        "layer.forward(inputs)\n",
        "\n",
        "\n",
        "activation.forward(layer.output)\n",
        "\n",
        "\n",
        "print(\"Output after ReLU activation:\")\n",
        "print(activation.output)\n"
      ],
      "metadata": {
        "colab": {
          "base_uri": "https://localhost:8080/"
        },
        "id": "hZPJEX6KYrs0",
        "outputId": "4f842a14-469a-4bf7-9c4d-8016cac6ebb7"
      },
      "execution_count": null,
      "outputs": [
        {
          "output_type": "stream",
          "name": "stdout",
          "text": [
            "enter any number of input : 2\n",
            "enter any number of neurons : 3\n",
            "Output after ReLU activation:\n",
            "[[0.         0.         0.03168423]]\n"
          ]
        }
      ]
    },
    {
      "cell_type": "code",
      "source": [],
      "metadata": {
        "id": "FSCtneEcYWwI"
      },
      "execution_count": null,
      "outputs": []
    }
  ]
}